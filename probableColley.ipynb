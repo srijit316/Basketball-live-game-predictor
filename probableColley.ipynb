{
 "cells": [
  {
   "cell_type": "markdown",
   "metadata": {},
   "source": [
    "### Compute Colley Ratings"
   ]
  },
  {
   "cell_type": "code",
   "execution_count": 5,
   "metadata": {
    "tags": []
   },
   "outputs": [
    {
     "name": "stdout",
     "output_type": "stream",
     "text": [
      "5709\n"
     ]
    }
   ],
   "source": [
    "import pandas as pd\n",
    "import numpy as np\n",
    "import scipy.stats\n",
    "from math import ceil \n",
    "\n",
    "gameFilename = '2024_Games.txt'\n",
    "teamFilename = '2024_Teams.txt'\n",
    "k = 20\n",
    "\n",
    "# Set weights for home, away and neutral wins\n",
    "weightHomeWin = 1\n",
    "weightAwayWin = 1.5\n",
    "weightNeutralWin = 1.25\n",
    "segmentWeighting = [0.25,0.5,0.75,1]\n",
    "\n",
    "# Will you use weighting? \n",
    "useWeighting = True\n",
    "\n",
    "# Load teams\n",
    "teamNames = pd.read_csv(teamFilename, header = None)\n",
    "numTeams = len(teamNames)\n",
    "\n",
    "# Load games\n",
    "games = pd.read_csv(gameFilename, header = None)\n",
    "numGames = len(games)\n",
    "\n",
    "import numpy as np\n",
    "\n",
    "colleyMatrix = 2*np.diag(np.ones(numTeams))\n",
    "b = np.ones(numTeams)\n",
    "\n",
    "dayBeforeSeason = games.loc[0,0] - 1\n",
    "lastDayOfSeason = games.loc[len(games)-1,0]\n",
    "\n",
    "for i in range(numGames):\n",
    "    team1ID = games.loc[i, 2] - 1 # subtracting 1 since python indexes at 0\n",
    "    team1Score = games.loc[i, 4]\n",
    "    team1Loc = games.loc[i, 3];\n",
    "\n",
    "    team2ID = games.loc[i, 5] - 1 # subtracting 1 since python indexes at 0\n",
    "    team2Score = games.loc[i, 7]\n",
    "    team2Loc = games.loc[i, 6];\n",
    "    \n",
    "    currentDay = games.loc[i,0]\n",
    "    \n",
    "    if useWeighting:\n",
    "        numberSegments = len(segmentWeighting)\n",
    "        weightIndex = ceil(numberSegments*((currentDay-dayBeforeSeason)/(lastDayOfSeason-dayBeforeSeason))) - 1\n",
    "        timeWeight = segmentWeighting[weightIndex]\n",
    "    else:\n",
    "        timeWeight = 1\n",
    "\n",
    "    if team1Score > team2Score:  # Team 1 won        \n",
    "        if (team1Loc == 1):      # Home win\n",
    "            gameWeight = weightHomeWin*timeWeight\n",
    "        elif (team1Loc == -1):   # Away win\n",
    "            gameWeight = weightAwayWin*timeWeight\n",
    "        else:                    # Neutral court win\n",
    "            gameWeight = weightNeutralWin*timeWeight\n",
    "    else:                        # Team 2 won\n",
    "        if (team2Loc == 1):      # Home win\n",
    "            gameWeight = weightHomeWin*timeWeight\n",
    "        elif (team2Loc == -1):   # Away win\n",
    "            gameWeight = weightAwayWin*timeWeight\n",
    "        else:                    # Neutral court win\n",
    "            gameWeight = weightNeutralWin*timeWeight\n",
    "\n",
    "    # Update the Colley matrix and RHS\n",
    "    colleyMatrix[team1ID, team2ID] -= gameWeight\n",
    "    colleyMatrix[team2ID, team1ID] -= gameWeight\n",
    "\n",
    "    colleyMatrix[team1ID, team1ID] += gameWeight\n",
    "    colleyMatrix[team2ID, team2ID] += gameWeight\n",
    "\n",
    "    if team1Score > team2Score:\n",
    "        b[team1ID] += 1/2*gameWeight\n",
    "        b[team2ID] -= 1/2*gameWeight\n",
    "    elif team1Score < team2Score:\n",
    "        b[team1ID] -= 1/2*gameWeight\n",
    "        b[team2ID] += 1/2*gameWeight\n",
    "    else:  # it is a tie and make 1/2 a win and 1/2 a loss for both teams\n",
    "        b[team1ID] += 0; # this equates to adding nothing\n",
    "        b[team2ID] += 0; # clearly this code could be deleted\n",
    "\n",
    "# Calculate linear system\n",
    "r = np.linalg.solve(colleyMatrix,b)\n",
    "iSort = np.argsort(-r)\n",
    "#print(colleyMatrix)\n",
    "#print(b)\n",
    "print(numGames)"
   ]
  },
  {
   "cell_type": "markdown",
   "metadata": {
    "tags": []
   },
   "source": [
    "## Compute probability"
   ]
  },
  {
   "cell_type": "code",
   "execution_count": 2,
   "metadata": {},
   "outputs": [
    {
     "name": "stdout",
     "output_type": "stream",
     "text": [
      "Stored 'winProbability' (float64)\n",
      "Probability of  Clemson beating  Arizona = 11.87\n"
     ]
    }
   ],
   "source": [
    "stdDev = np.std(r)\n",
    "zScore = (r-np.mean(r))/stdDev\n",
    "\n",
    "team1ID = 50-1 # Duke\n",
    "team2ID = 10-1 # North Carolina\n",
    "zscoreDiff = zScore[team1ID] - zScore[team2ID]\n",
    "winProbability =  0.5 + scipy.stats.norm.cdf(zscoreDiff)-scipy.stats.norm.cdf(-zscoreDiff)\n",
    "%store winProbability\n",
    "print(f'Probability of %s beating %s = %5.2f' % (teamNames.loc[team1ID,1],teamNames.loc[team2ID,1], (100*winProbability)))\n"
   ]
  },
  {
   "cell_type": "code",
   "execution_count": 21,
   "metadata": {
    "tags": []
   },
   "outputs": [
    {
     "name": "stdout",
     "output_type": "stream",
     "text": [
      "\n",
      "\n",
      "************** MASSEY Rating Method **************\n",
      "\n",
      "==================================================\n",
      "Rank   Rating      Team\n",
      "==================================================\n",
      "   1     1.06722   Purdue\n",
      "   2     1.06241   Connecticut\n",
      "   3     0.99729   Houston\n",
      "   4     0.95106   North_Carolina\n",
      "   5     0.95060   Illinois\n",
      "   6     0.93691   Iowa_St\n",
      "   7     0.93197   Tennessee\n",
      "   8     0.92328   Duke\n",
      "   9     0.90416   Alabama\n",
      "  10     0.89679   Auburn\n",
      "  11     0.86897   Arizona\n",
      "  12     0.86512   Marquette\n",
      "  13     0.85073   Colorado\n",
      "  14     0.84704   Utah_St\n",
      "  15     0.84436   Gonzaga\n",
      "  16     0.84064   Drake\n",
      "  17     0.83896   Grand_Canyon\n",
      "  18     0.83790   South_Carolina\n",
      "  19     0.83643   Indiana_St\n",
      "  20     0.83173   Dayton\n",
      "\n"
     ]
    }
   ],
   "source": [
    "print('\\n\\n************** MASSEY Rating Method **************\\n')\n",
    "print('==================================================')\n",
    "print('Rank   Rating      Team')\n",
    "print('==================================================')\n",
    "if k==0:\n",
    "    numberTeamToPrint = numTeams\n",
    "else:\n",
    "    numberTeamToPrint = k\n",
    "\n",
    "for i in range(numberTeamToPrint):\n",
    "    print(f'{i+1:4d}   {r[iSort[i]]:9.5f}  {teamNames.loc[iSort[i],1]}')\n",
    "    \n",
    "print('')   # extra carriage return"
   ]
  },
  {
   "cell_type": "markdown",
   "metadata": {},
   "source": [
    "### Histogram of ratings"
   ]
  },
  {
   "cell_type": "code",
   "execution_count": null,
   "metadata": {},
   "outputs": [
    {
     "data": {
      "image/png": "[encoded data removed]",
      "text/plain": [
       "<Figure size 432x288 with 1 Axes>"
      ]
     },
     "metadata": {
      "needs_background": "light"
     },
     "output_type": "display_data"
    }
   ],
   "source": [
    "import matplotlib.pyplot as plt\n",
    "\n",
    "plt.hist(r,bins=20,alpha=0.75, rwidth=1,edgecolor='black')\n",
    "plt.show() "
   ]
  },
  {
   "cell_type": "markdown",
   "metadata": {},
   "source": [
    "***\n",
    "\n",
    "### Scrap work"
   ]
  },
  {
   "cell_type": "code",
   "execution_count": null,
   "metadata": {},
   "outputs": [
    {
     "name": "stdout",
     "output_type": "stream",
     "text": [
      " Duke 1.736319 \n"
     ]
    }
   ],
   "source": [
    "print('%s %f ' % (teamNames.loc[team1ID,1],zScore[team1ID]))\n",
    "#print('Davidson ',zScore[Davidson])"
   ]
  },
  {
   "cell_type": "code",
   "execution_count": null,
   "metadata": {},
   "outputs": [
    {
     "name": "stdout",
     "output_type": "stream",
     "text": [
      "0.8865160236605936\n",
      "-0.8865160236605936\n"
     ]
    }
   ],
   "source": [
    "zscoreDiff = zScore[Duke] - zScore[Davidson]\n",
    "print(scipy.stats.norm.cdf(zscoreDiff)-scipy.stats.norm.cdf(-zscoreDiff))\n",
    "print(-(scipy.stats.norm.cdf(zscoreDiff)-scipy.stats.norm.cdf(-zscoreDiff)))\n"
   ]
  },
  {
   "cell_type": "code",
   "execution_count": null,
   "metadata": {},
   "outputs": [
    {
     "data": {
      "text/plain": [
       "48.06083776697257"
      ]
     },
     "execution_count": 13,
     "metadata": {},
     "output_type": "execute_result"
    }
   ],
   "source": [
    "50 - (scipy.stats.norm.cdf(zScore[team1ID])+scipy.stats.norm.cdf(zScore[team2ID]))"
   ]
  },
  {
   "cell_type": "code",
   "execution_count": null,
   "metadata": {},
   "outputs": [],
   "source": []
  },
  {
   "cell_type": "code",
   "execution_count": null,
   "metadata": {},
   "outputs": [],
   "source": []
  }
 ],
 "metadata": {
  "kernelspec": {
   "display_name": "Python 2.7",
   "language": "python",
   "name": "python-2.7"
  },
  "language_info": {
   "codemirror_mode": {
    "name": "ipython",
    "version": 3
   },
   "file_extension": ".py",
   "mimetype": "text/x-python",
   "name": "python",
   "nbconvert_exporter": "python",
   "pygments_lexer": "ipython3",
   "version": "3.8.6"
  }
 },
 "nbformat": 4,
 "nbformat_minor": 4
}
