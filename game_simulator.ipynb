{
 "cells": [
  {
   "cell_type": "code",
   "execution_count": 76,
   "id": "f38eca44-bccf-4f5d-806c-a548f06559b2",
   "metadata": {},
   "outputs": [
    {
     "name": "stdout",
     "output_type": "stream",
     "text": [
      "     Rank         Team  2023  Last 3  Last 1  Home  Away  2022\n",
      "0       1      Alabama  46.8    43.0    32.0  47.1  46.6  43.4\n",
      "1       2     Kentucky  45.4    46.0    41.0  46.6  43.8  38.6\n",
      "2       3      Arizona  44.3    41.0    41.0  49.0  40.6  40.9\n",
      "3       4     Lipscomb  43.9    46.0    32.0  48.5  40.8  39.6\n",
      "4       5      Samford  43.8    45.7    51.0  46.9  40.9  40.2\n",
      "..    ...          ...   ...     ...     ...   ...   ...   ...\n",
      "357   358    Loyola-MD  32.1    26.3    21.0  29.8  33.5  34.6\n",
      "358   359         Army  32.0    33.3    41.0  32.4  31.6  34.8\n",
      "359   360    Coppin St  31.3    27.3    26.0  32.5  30.7  36.8\n",
      "360   361    Dartmouth  31.2    34.7    38.0  32.5  30.2  35.3\n",
      "361   362  Miss Val St  28.9    36.0    39.0  33.7  26.9  32.3\n",
      "\n",
      "[362 rows x 8 columns]\n"
     ]
    },
    {
     "ename": "AttributeError",
     "evalue": "'Series' object has no attribute 'rfind'",
     "output_type": "error",
     "traceback": [
      "\u001b[0;31m---------------------------------------------------------------------------\u001b[0m",
      "\u001b[0;31mAttributeError\u001b[0m                            Traceback (most recent call last)",
      "Input \u001b[0;32mIn [76]\u001b[0m, in \u001b[0;36m<cell line: 19>\u001b[0;34m()\u001b[0m\n\u001b[1;32m     17\u001b[0m team1_stats\u001b[38;5;241m=\u001b[39mdf2[df2[\u001b[38;5;124m'\u001b[39m\u001b[38;5;124mTeam\u001b[39m\u001b[38;5;124m'\u001b[39m]\u001b[38;5;241m==\u001b[39m\u001b[38;5;124m'\u001b[39m\u001b[38;5;124mClemson\u001b[39m\u001b[38;5;124m'\u001b[39m]\n\u001b[1;32m     18\u001b[0m team1_scor_avg\u001b[38;5;241m=\u001b[39mteam1_stats[\u001b[38;5;124m'\u001b[39m\u001b[38;5;124m2023\u001b[39m\u001b[38;5;124m'\u001b[39m]\n\u001b[0;32m---> 19\u001b[0m team1_scor_avg\u001b[38;5;241m=\u001b[39mteam1_scor_avg[\u001b[43mteam1_scor_avg\u001b[49m\u001b[38;5;241;43m.\u001b[39;49m\u001b[43mrfind\u001b[49m(\u001b[38;5;124m\"\u001b[39m\u001b[38;5;124m \u001b[39m\u001b[38;5;124m\"\u001b[39m):]\n\u001b[1;32m     20\u001b[0m team2_scor_avg\u001b[38;5;241m=\u001b[39mdf2[df2[\u001b[38;5;124m'\u001b[39m\u001b[38;5;124mTeam\u001b[39m\u001b[38;5;124m'\u001b[39m]\u001b[38;5;241m==\u001b[39m\u001b[38;5;124m'\u001b[39m\u001b[38;5;124mArizona\u001b[39m\u001b[38;5;124m'\u001b[39m]\n\u001b[1;32m     21\u001b[0m \u001b[38;5;28mprint\u001b[39m(team1_scor_avg)\n",
      "File \u001b[0;32m/opt/pub/eb/apps/all/DavidsonJupyter/2021-common-GCCcore-10.2.0/lib/python3.8/site-packages/pandas/core/generic.py:5575\u001b[0m, in \u001b[0;36mNDFrame.__getattr__\u001b[0;34m(self, name)\u001b[0m\n\u001b[1;32m   5568\u001b[0m \u001b[38;5;28;01mif\u001b[39;00m (\n\u001b[1;32m   5569\u001b[0m     name \u001b[38;5;129;01mnot\u001b[39;00m \u001b[38;5;129;01min\u001b[39;00m \u001b[38;5;28mself\u001b[39m\u001b[38;5;241m.\u001b[39m_internal_names_set\n\u001b[1;32m   5570\u001b[0m     \u001b[38;5;129;01mand\u001b[39;00m name \u001b[38;5;129;01mnot\u001b[39;00m \u001b[38;5;129;01min\u001b[39;00m \u001b[38;5;28mself\u001b[39m\u001b[38;5;241m.\u001b[39m_metadata\n\u001b[1;32m   5571\u001b[0m     \u001b[38;5;129;01mand\u001b[39;00m name \u001b[38;5;129;01mnot\u001b[39;00m \u001b[38;5;129;01min\u001b[39;00m \u001b[38;5;28mself\u001b[39m\u001b[38;5;241m.\u001b[39m_accessors\n\u001b[1;32m   5572\u001b[0m     \u001b[38;5;129;01mand\u001b[39;00m \u001b[38;5;28mself\u001b[39m\u001b[38;5;241m.\u001b[39m_info_axis\u001b[38;5;241m.\u001b[39m_can_hold_identifiers_and_holds_name(name)\n\u001b[1;32m   5573\u001b[0m ):\n\u001b[1;32m   5574\u001b[0m     \u001b[38;5;28;01mreturn\u001b[39;00m \u001b[38;5;28mself\u001b[39m[name]\n\u001b[0;32m-> 5575\u001b[0m \u001b[38;5;28;01mreturn\u001b[39;00m \u001b[38;5;28;43mobject\u001b[39;49m\u001b[38;5;241;43m.\u001b[39;49m\u001b[38;5;21;43m__getattribute__\u001b[39;49m\u001b[43m(\u001b[49m\u001b[38;5;28;43mself\u001b[39;49m\u001b[43m,\u001b[49m\u001b[43m \u001b[49m\u001b[43mname\u001b[49m\u001b[43m)\u001b[49m\n",
      "\u001b[0;31mAttributeError\u001b[0m: 'Series' object has no attribute 'rfind'"
     ]
    }
   ],
   "source": [
    "import numpy as np\n",
    "from bs4 import BeautifulSoup\n",
    "from urllib.request import urlopen\n",
    "import pandas as pd\n",
    "\n",
    "half = 0 # determines what half the game is in --> first half = 0\n",
    "\n",
    "# What web page do we want? \n",
    "pageAddress = \"https://www.cbssports.com/nba/gametracker/live/NBA_20240429_OKC@NO/\"\n",
    "statsAddress=\"https://www.teamrankings.com/ncaa-basketball/stat/2nd-half-points-per-game\"\n",
    "# Open and read in the web page \n",
    "soup = BeautifulSoup(urlopen(pageAddress), \"html.parser\")\n",
    "soup2=BeautifulSoup(urlopen(statsAddress), \"html.parser\")\n",
    "table2=soup2.find('table')\n",
    "df2 = pd.read_html(str(table2))[0]\n",
    "print(df2)\n",
    "team1_stats=df2[df2['Team']=='Clemson']\n",
    "team1_scor_avg=team1_stats['2023']\n",
    "team1_scor_avg=team1_scor_avg[team1_scor_avg.rfind(\" \"):]\n",
    "team2_scor_avg=df2[df2['Team']=='Arizona']\n",
    "print(team1_scor_avg)\n",
    "print(team2_scor_avg)"
   ]
  },
  {
   "cell_type": "code",
   "execution_count": 77,
   "id": "c70be3fa-6e9a-4e3d-9858-230c2e079db5",
   "metadata": {},
   "outputs": [
    {
     "name": "stdout",
     "output_type": "stream",
     "text": [
      "96\n",
      "89\n",
      "0:36\n",
      "Last Score row: 96-89\n",
      "38\n"
     ]
    }
   ],
   "source": [
    "# Read the table of data into a Dataframe \n",
    "table=soup.find_all('table')\n",
    "#tables = section.find('div',class_=\"ResponsiveTable playByPlay__table playByPlay__table--default\")\n",
    "\n",
    "\n",
    "df = pd.read_html(str(table))[half]\n",
    "# Filter rows where 'Score' is not 'NaN'\n",
    "filtered_df = df.dropna(subset=['Score'])\n",
    "\n",
    "# Get the last score from the filtered DataFrame\n",
    "last_score_row = filtered_df.iloc[0]\n",
    "last_score=last_score_row['Score']\n",
    "last_time=last_score_row['Time']\n",
    "home_score=last_score[0:last_score.find('-')]\n",
    "away_score=last_score[last_score.find('-')+1:]\n",
    "print(home_score)\n",
    "print(away_score)\n",
    "print(last_time)\n",
    "print(\"Last Score row:\", last_score)\n",
    "num_tables = len(table)\n",
    "print(num_tables)"
   ]
  },
  {
   "cell_type": "code",
   "execution_count": 64,
   "id": "7b88923e-1491-4eb0-95e9-d90dff58d0d6",
   "metadata": {},
   "outputs": [
    {
     "name": "stdout",
     "output_type": "stream",
     "text": [
      "300\n",
      "300\n",
      "2100\n"
     ]
    }
   ],
   "source": [
    "# Find scoring rates for each team\n",
    "#last_time = \"18:21\"\n",
    "home_score = int(home_score)\n",
    "away_score = int(away_score)\n",
    "\n",
    "home_score = 65\n",
    "away_score =58\n",
    "\n",
    "minutes, seconds = map(int, last_time.split(':'))\n",
    "#time_rem = minutes * 60 + seconds\n",
    "time_rem = 5*60\n",
    "print(time_rem)\n",
    "half=1\n",
    "if(half == 0):\n",
    "    if(time_rem!=20*60):\n",
    "        time_played = 20 * 60 - time_rem\n",
    "    time_rem=time_rem+20*60\n",
    "else:\n",
    "    time_played = 20 * 60 * 2 - time_rem\n",
    "if(time_rem > 0):                      \n",
    "    home_rate = home_score / (time_played)\n",
    "    away_rate = away_score / (time_played)\n",
    "else:\n",
    "    home_rate = 0\n",
    "    away_rate = 0\n",
    "\n",
    "print(time_rem)\n",
    "print(time_played)"
   ]
  },
  {
   "cell_type": "code",
   "execution_count": 65,
   "id": "0edf98f2-35b7-4bfc-9f4c-6c001d25c81d",
   "metadata": {},
   "outputs": [
    {
     "name": "stdout",
     "output_type": "stream",
     "text": [
      "0.030952380952380953 0.02761904761904762\n",
      "97.11\n",
      "74.7854  home score\n",
      "66.7884  away score\n"
     ]
    }
   ],
   "source": [
    "home_wins = 0\n",
    "away_wins = 0\n",
    "total_home_score = 0\n",
    "total_away_score = 0\n",
    "print(home_rate, away_rate)\n",
    "#home_rate = .4\n",
    "#away_rate = .3\n",
    "#print(home_rate, away_rate)\n",
    "games = 0\n",
    "if(time_rem!=40*60):\n",
    "    for i in range(10000):\n",
    "        time = time_rem\n",
    "        h_score = home_score\n",
    "        a_score = away_score\n",
    "\n",
    "        while (time_rem > 0):\n",
    "            # Simulate time until next scoring event for both teams\n",
    "            home_time = np.random.exponential(1 / home_rate)\n",
    "            away_time = np.random.exponential(1 / away_rate)\n",
    "\n",
    "             # Determine which team scores next\n",
    "            if (home_time < away_time):\n",
    "                h_score += 1\n",
    "            else:\n",
    "                a_score += 1\n",
    "\n",
    "            # Update remaining time\n",
    "            time -= min(home_time, away_time)\n",
    "\n",
    "            # Check if game is over\n",
    "            if (time <= 0 ):\n",
    "                break\n",
    "        games+= 1\n",
    "        if (h_score > a_score):\n",
    "            home_wins += 1\n",
    "        elif(h_score < a_score):\n",
    "            away_wins += 1\n",
    "        else:\n",
    "            if(home_time > away_time):\n",
    "                home_wins +=1\n",
    "            else:\n",
    "                away_wins +=1\n",
    "        total_home_score += h_score\n",
    "        total_away_score += a_score\n",
    "        #print(h_score, \"-\" , a_score)\n",
    "\n",
    "    home_win_percent =  home_wins/games \n",
    "    print(home_win_percent*100)\n",
    "    total_home_score = total_home_score / games\n",
    "    total_away_score = total_away_score / games\n",
    "    print(total_home_score, \" home score\")\n",
    "    print(total_away_score, \" away score\")\n",
    "\n",
    "#print(games)"
   ]
  },
  {
   "cell_type": "code",
   "execution_count": 66,
   "id": "9062cafd-ff6f-4e71-80a1-6e942c708c47",
   "metadata": {},
   "outputs": [
    {
     "name": "stdout",
     "output_type": "stream",
     "text": [
      "11.874697491136942\n",
      "0.2\n",
      "80.0629394982274\n"
     ]
    }
   ],
   "source": [
    "# taking percentage from the colley and adding it\n",
    "%store -r winProbability\n",
    "print( winProbability*100)\n",
    "\n",
    "factor=1\n",
    "if time_rem<40*60 and time_rem>=30*60:\n",
    "    factor=0.8\n",
    "elif time_rem<30*60 and time_rem>20*60:\n",
    "    factor=0.6\n",
    "elif time_rem==20*60:\n",
    "    factor=0.5\n",
    "elif time_rem<20*60 and time_rem>=10*60:\n",
    "    factor=0.4\n",
    "elif time_rem<10*60:\n",
    "    factor=0.2\n",
    "print(factor)\n",
    "\n",
    "\n",
    "final_prob=factor*(winProbability)+(1-factor)*(home_win_percent)\n",
    "print(final_prob*100)"
   ]
  },
  {
   "cell_type": "code",
   "execution_count": null,
   "id": "4529b961-07c6-4e44-ada9-495500932e47",
   "metadata": {},
   "outputs": [],
   "source": []
  },
  {
   "cell_type": "code",
   "execution_count": null,
   "id": "4ac801f2-ab2c-47d7-8955-5b43a29606ed",
   "metadata": {},
   "outputs": [],
   "source": []
  }
 ],
 "metadata": {
  "kernelspec": {
   "display_name": "Python 2.7",
   "language": "python",
   "name": "python-2.7"
  },
  "language_info": {
   "codemirror_mode": {
    "name": "ipython",
    "version": 3
   },
   "file_extension": ".py",
   "mimetype": "text/x-python",
   "name": "python",
   "nbconvert_exporter": "python",
   "pygments_lexer": "ipython3",
   "version": "3.8.6"
  }
 },
 "nbformat": 4,
 "nbformat_minor": 5
}
