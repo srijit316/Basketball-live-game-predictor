{
 "cells": [
  {
   "cell_type": "code",
   "execution_count": null,
   "id": "f38eca44-bccf-4f5d-806c-a548f06559b2",
   "metadata": {},
   "outputs": [],
   "source": [
    "import numpy as np\n",
    "from bs4 import BeautifulSoup\n",
    "from urllib.request import urlopen\n",
    "import pandas as pd\n",
    "\n",
    "half = 0 # determines what half the game is in --> first half = 0\n",
    "\n",
    "# What web page do we want? \n",
    "pageAddress = \"https://www.cbssports.com/nba/gametracker/live/NBA_20240429_OKC@NO/\"\n",
    "statsAddress=\"https://www.teamrankings.com/ncaa-basketball/stat/2nd-half-points-per-game\"\n",
    "# Open and read in the web page \n",
    "soup = BeautifulSoup(urlopen(pageAddress), \"html.parser\")\n",
    "soup2=BeautifulSoup(urlopen(statsAddress), \"html.parser\")\n",
    "table2=soup2.find('table')\n",
    "df2 = pd.read_html(str(table2))[0]\n",
    "print(df2)\n",
    "team1_stats=df2[df2['Team']=='Clemson']\n",
    "team1_scor_avg=team1_stats['2023']\n",
    "team1_scor_avg=team1_scor_avg[team1_scor_avg.rfind(\" \"):]\n",
    "team2_scor_avg=df2[df2['Team']=='Arizona']\n",
    "print(team1_scor_avg)\n",
    "print(team2_scor_avg)"
   ]
  },
  {
   "cell_type": "code",
   "execution_count": null,
   "id": "c70be3fa-6e9a-4e3d-9858-230c2e079db5",
   "metadata": {},
   "outputs": [],
   "source": [
    "# Read the table of data into a Dataframe \n",
    "table=soup.find_all('table')\n",
    "#tables = section.find('div',class_=\"ResponsiveTable playByPlay__table playByPlay__table--default\")\n",
    "\n",
    "\n",
    "df = pd.read_html(str(table))[half]\n",
    "# Filter rows where 'Score' is not 'NaN'\n",
    "filtered_df = df.dropna(subset=['Score'])\n",
    "\n",
    "# Get the last score from the filtered DataFrame\n",
    "last_score_row = filtered_df.iloc[0]\n",
    "last_score=last_score_row['Score']\n",
    "last_time=last_score_row['Time']\n",
    "home_score=last_score[0:last_score.find('-')]\n",
    "away_score=last_score[last_score.find('-')+1:]\n",
    "print(home_score)\n",
    "print(away_score)\n",
    "print(last_time)\n",
    "print(\"Last Score row:\", last_score)\n",
    "num_tables = len(table)\n",
    "print(num_tables)"
   ]
  },
  {
   "cell_type": "code",
   "execution_count": 64,
   "id": "7b88923e-1491-4eb0-95e9-d90dff58d0d6",
   "metadata": {},
   "outputs": [
    {
     "name": "stdout",
     "output_type": "stream",
     "text": [
      "300\n",
      "300\n",
      "2100\n"
     ]
    }
   ],
   "source": [
    "# Find scoring rates for each team\n",
    "#last_time = \"18:21\"\n",
    "home_score = int(home_score)\n",
    "away_score = int(away_score)\n",
    "\n",
    "home_score = 65\n",
    "away_score =58\n",
    "\n",
    "minutes, seconds = map(int, last_time.split(':'))\n",
    "#time_rem = minutes * 60 + seconds\n",
    "time_rem = 5*60\n",
    "print(time_rem)\n",
    "half=1\n",
    "if(half == 0):\n",
    "    if(time_rem!=20*60):\n",
    "        time_played = 20 * 60 - time_rem\n",
    "    time_rem=time_rem+20*60\n",
    "else:\n",
    "    time_played = 20 * 60 * 2 - time_rem\n",
    "if(time_rem > 0):                      \n",
    "    home_rate = home_score / (time_played)\n",
    "    away_rate = away_score / (time_played)\n",
    "else:\n",
    "    home_rate = 0\n",
    "    away_rate = 0\n",
    "\n",
    "print(time_rem)\n",
    "print(time_played)"
   ]
  },
  {
   "cell_type": "code",
   "execution_count": 65,
   "id": "0edf98f2-35b7-4bfc-9f4c-6c001d25c81d",
   "metadata": {},
   "outputs": [
    {
     "name": "stdout",
     "output_type": "stream",
     "text": [
      "0.030952380952380953 0.02761904761904762\n",
      "97.11\n",
      "74.7854  home score\n",
      "66.7884  away score\n"
     ]
    }
   ],
   "source": [
    "home_wins = 0\n",
    "away_wins = 0\n",
    "total_home_score = 0\n",
    "total_away_score = 0\n",
    "print(home_rate, away_rate)\n",
    "#home_rate = .4\n",
    "#away_rate = .3\n",
    "#print(home_rate, away_rate)\n",
    "games = 0\n",
    "if(time_rem!=40*60):\n",
    "    for i in range(10000):\n",
    "        time = time_rem\n",
    "        h_score = home_score\n",
    "        a_score = away_score\n",
    "\n",
    "        while (time_rem > 0):\n",
    "            # Simulate time until next scoring event for both teams\n",
    "            home_time = np.random.exponential(1 / home_rate)\n",
    "            away_time = np.random.exponential(1 / away_rate)\n",
    "\n",
    "             # Determine which team scores next\n",
    "            if (home_time < away_time):\n",
    "                h_score += 1\n",
    "            else:\n",
    "                a_score += 1\n",
    "\n",
    "            # Update remaining time\n",
    "            time -= min(home_time, away_time)\n",
    "\n",
    "            # Check if game is over\n",
    "            if (time <= 0 ):\n",
    "                break\n",
    "        games+= 1\n",
    "        if (h_score > a_score):\n",
    "            home_wins += 1\n",
    "        elif(h_score < a_score):\n",
    "            away_wins += 1\n",
    "        else:\n",
    "            if(home_time > away_time):\n",
    "                home_wins +=1\n",
    "            else:\n",
    "                away_wins +=1\n",
    "        total_home_score += h_score\n",
    "        total_away_score += a_score\n",
    "        #print(h_score, \"-\" , a_score)\n",
    "\n",
    "    home_win_percent =  home_wins/games \n",
    "    print(home_win_percent*100)\n",
    "    total_home_score = total_home_score / games\n",
    "    total_away_score = total_away_score / games\n",
    "    print(total_home_score, \" home score\")\n",
    "    print(total_away_score, \" away score\")\n",
    "\n",
    "#print(games)"
   ]
  },
  {
   "cell_type": "code",
   "execution_count": 66,
   "id": "9062cafd-ff6f-4e71-80a1-6e942c708c47",
   "metadata": {},
   "outputs": [
    {
     "name": "stdout",
     "output_type": "stream",
     "text": [
      "11.874697491136942\n",
      "0.2\n",
      "80.0629394982274\n"
     ]
    }
   ],
   "source": [
    "# taking percentage from the colley and adding it\n",
    "%store -r winProbability\n",
    "print( winProbability*100)\n",
    "\n",
    "factor=1\n",
    "if time_rem<40*60 and time_rem>=30*60:\n",
    "    factor=0.8\n",
    "elif time_rem<30*60 and time_rem>20*60:\n",
    "    factor=0.6\n",
    "elif time_rem==20*60:\n",
    "    factor=0.5\n",
    "elif time_rem<20*60 and time_rem>=10*60:\n",
    "    factor=0.4\n",
    "elif time_rem<10*60:\n",
    "    factor=0.2\n",
    "print(factor)\n",
    "\n",
    "\n",
    "final_prob=factor*(winProbability)+(1-factor)*(home_win_percent)\n",
    "print(final_prob*100)"
   ]
  },
  {
   "cell_type": "code",
   "execution_count": null,
   "id": "4529b961-07c6-4e44-ada9-495500932e47",
   "metadata": {},
   "outputs": [],
   "source": []
  },
  {
   "cell_type": "code",
   "execution_count": null,
   "id": "4ac801f2-ab2c-47d7-8955-5b43a29606ed",
   "metadata": {},
   "outputs": [],
   "source": []
  }
 ],
 "metadata": {
  "kernelspec": {
   "display_name": "Python 2.7",
   "language": "python",
   "name": "python-2.7"
  },
  "language_info": {
   "codemirror_mode": {
    "name": "ipython",
    "version": 3
   },
   "file_extension": ".py",
   "mimetype": "text/x-python",
   "name": "python",
   "nbconvert_exporter": "python",
   "pygments_lexer": "ipython3",
   "version": "3.8.6"
  }
 },
 "nbformat": 4,
 "nbformat_minor": 5
}
